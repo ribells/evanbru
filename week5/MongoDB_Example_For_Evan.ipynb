{
 "cells": [
  {
   "cell_type": "code",
   "execution_count": 1,
   "metadata": {},
   "outputs": [],
   "source": [
    "import warnings\n",
    "\n",
    "def fxn():\n",
    "    warnings.warn(\"deprecated\", DeprecationWarning)\n",
    "\n",
    "with warnings.catch_warnings():\n",
    "    warnings.simplefilter(\"ignore\")\n",
    "    fxn()"
   ]
  },
  {
   "cell_type": "code",
   "execution_count": 9,
   "metadata": {},
   "outputs": [
    {
     "name": "stdout",
     "output_type": "stream",
     "text": [
      "Number of objects in this image are 18\n"
     ]
    }
   ],
   "source": [
    "#install a Python-accessible MondoDB package\n",
    "\n",
    "!pip install pymongo"
   ]
  },
  {
   "cell_type": "code",
   "execution_count": 1,
   "metadata": {},
   "outputs": [],
   "source": [
    "import pymongo\n",
    "from pymongo import MongoClient"
   ]
  },
  {
   "cell_type": "code",
   "execution_count": 8,
   "metadata": {},
   "outputs": [],
   "source": [
    "client = MongoClient('localhost', 27017)"
   ]
  },
  {
   "cell_type": "code",
   "execution_count": 9,
   "metadata": {},
   "outputs": [
    {
     "data": {
      "text/plain": [
       "Database(MongoClient(host=['localhost:27017'], document_class=dict, tz_aware=False, connect=True), 'rptutorials')"
      ]
     },
     "execution_count": 9,
     "metadata": {},
     "output_type": "execute_result"
    }
   ],
   "source": [
    "# following tutorial at:\n",
    "# https://realpython.com/introduction-to-mongodb-and-python/#using-mongodb-with-python-and-pymongo\n",
    "\n",
    "db = client['rptutorials']\n",
    "\n",
    "db"
   ]
  },
  {
   "cell_type": "code",
   "execution_count": 10,
   "metadata": {},
   "outputs": [],
   "source": [
    "tutorial1 = {\n",
    "     \"title\": \"Working With JSON Data in Python\",\n",
    "     \"author\": \"Lucas\",\n",
    "     \"contributors\": [\n",
    "         \"Aldren\",\n",
    "         \"Dan\",\n",
    "         \"Joanna\"\n",
    "     ],\n",
    "     \"url\": \"https://realpython.com/python-json/\"\n",
    "}"
   ]
  },
  {
   "cell_type": "code",
   "execution_count": 11,
   "metadata": {},
   "outputs": [
    {
     "data": {
      "text/plain": [
       "Collection(Database(MongoClient(host=['localhost:27017'], document_class=dict, tz_aware=False, connect=True), 'rptutorials'), 'tutorial')"
      ]
     },
     "execution_count": 11,
     "metadata": {},
     "output_type": "execute_result"
    }
   ],
   "source": [
    "tutorial = db.tutorial\n",
    "tutorial"
   ]
  },
  {
   "cell_type": "code",
   "execution_count": 13,
   "metadata": {},
   "outputs": [
    {
     "data": {
      "text/plain": [
       "<pymongo.results.InsertOneResult at 0x7fb8188a3e00>"
      ]
     },
     "execution_count": 13,
     "metadata": {},
     "output_type": "execute_result"
    }
   ],
   "source": [
    "result = tutorial.insert_one(tutorial1)\n",
    "result"
   ]
  },
  {
   "cell_type": "code",
   "execution_count": 14,
   "metadata": {},
   "outputs": [],
   "source": [
    "tutorial2 = {\n",
    "     \"title\": \"Python's Requests Library (Guide)\",\n",
    "     \"author\": \"Alex\",\n",
    "     \"contributors\": [\n",
    "         \"Aldren\",\n",
    "         \"Brad\",\n",
    "         \"Joanna\"\n",
    "     ],\n",
    "     \"url\": \"https://realpython.com/python-requests/\"\n",
    "}\n",
    "\n",
    "tutorial3 = {\n",
    "     \"title\": \"Object-Oriented Programming (OOP) in Python 3\",\n",
    "     \"author\": \"David\",\n",
    "     \"contributors\": [\n",
    "         \"Aldren\",\n",
    "         \"Joanna\",\n",
    "         \"Jacob\"\n",
    "     ],\n",
    "     \"url\": \"https://realpython.com/python3-object-oriented-programming/\"\n",
    "}"
   ]
  },
  {
   "cell_type": "code",
   "execution_count": 15,
   "metadata": {},
   "outputs": [
    {
     "name": "stdout",
     "output_type": "stream",
     "text": [
      "Multiple tutorials: [ObjectId('64d24acdbd5ce792cec47b75'), ObjectId('64d24acdbd5ce792cec47b76')]\n"
     ]
    }
   ],
   "source": [
    "new_result = tutorial.insert_many([tutorial2, tutorial3])\n",
    "\n",
    "print(f\"Multiple tutorials: {new_result.inserted_ids}\")"
   ]
  },
  {
   "cell_type": "code",
   "execution_count": 20,
   "metadata": {},
   "outputs": [
    {
     "name": "stdout",
     "output_type": "stream",
     "text": [
      "{'_id': ObjectId('64d247b5bd5ce792cec47b74'),\n",
      " 'author': 'Lucas',\n",
      " 'contributors': ['Aldren', 'Dan', 'Joanna'],\n",
      " 'title': 'Working With JSON Data in Python',\n",
      " 'url': 'https://realpython.com/python-json/'}\n",
      "{'_id': ObjectId('64d24acdbd5ce792cec47b75'),\n",
      " 'author': 'Alex',\n",
      " 'contributors': ['Aldren', 'Brad', 'Joanna'],\n",
      " 'title': \"Python's Requests Library (Guide)\",\n",
      " 'url': 'https://realpython.com/python-requests/'}\n",
      "{'_id': ObjectId('64d24acdbd5ce792cec47b76'),\n",
      " 'author': 'David',\n",
      " 'contributors': ['Aldren', 'Joanna', 'Jacob'],\n",
      " 'title': 'Object-Oriented Programming (OOP) in Python 3',\n",
      " 'url': 'https://realpython.com/python3-object-oriented-programming/'}\n"
     ]
    }
   ],
   "source": [
    "import pprint\n",
    "\n",
    "for doc in tutorial.find():\n",
    "    pprint.pprint(doc)"
   ]
  },
  {
   "cell_type": "code",
   "execution_count": 23,
   "metadata": {},
   "outputs": [
    {
     "name": "stdout",
     "output_type": "stream",
     "text": [
      "{'_id': ObjectId('64d24acdbd5ce792cec47b75'),\n",
      " 'author': 'Alex',\n",
      " 'contributors': ['Aldren', 'Brad', 'Joanna'],\n",
      " 'title': \"Python's Requests Library (Guide)\",\n",
      " 'url': 'https://realpython.com/python-requests/'}\n"
     ]
    }
   ],
   "source": [
    "jon_tutorial = tutorial.find_one({\"author\": \"Alex\"})\n",
    "pprint.pprint(jon_tutorial)"
   ]
  },
  {
   "cell_type": "code",
   "execution_count": null,
   "metadata": {},
   "outputs": [],
   "source": [
    "# example of inserting data to MondoDB from csv file\n",
    "\n",
    "import pandas as pd\n",
    "import json\n",
    "\n",
    "def mongoimport(csv_path, db_name, coll_name, db_url='localhost', db_port=27017):\n",
    "    \"\"\" Imports a csv file at path csv_name to a mongo colection\n",
    "    returns: count of the documants in the new collection\n",
    "    \"\"\"\n",
    "    client = MongoClient(db_url, db_port)\n",
    "    db = client[db_name]\n",
    "    coll = db[coll_name]\n",
    "    data = pd.read_csv(csv_path)\n",
    "    payload = json.loads(data.to_json(orient='records'))\n",
    "    coll.remove()\n",
    "    coll.insert(payload)\n",
    "    return coll.count()\n",
    "\n",
    "db = client['zillo']\n",
    "\n",
    "z_data = db.z_data\n",
    "z_data\n",
    "\n",
    "mongoimport(\"Zillow_Mortgages_county_2016-2017.csv\", \"zillo\", \"z_data\")"
   ]
  },
  {
   "cell_type": "code",
   "execution_count": 34,
   "metadata": {},
   "outputs": [
    {
     "name": "stdout",
     "output_type": "stream",
     "text": [
      "{'Date': '2016-01-31',\n",
      " 'DaysOnZillow_AllHomes': 139.5,\n",
      " 'InventoryRaw_AllHomes': 952.0,\n",
      " 'InventorySeasonallyAdjusted_AllHomes': 1021.0,\n",
      " 'MedianListingPricePerSqft_1Bedroom': None,\n",
      " 'MedianListingPricePerSqft_2Bedroom': 119.4444444444,\n",
      " 'MedianListingPricePerSqft_3Bedroom': 120.3155080214,\n",
      " 'MedianListingPricePerSqft_4Bedroom': 108.3003089189,\n",
      " 'MedianListingPricePerSqft_5BedroomOrMore': 111.9894298291,\n",
      " 'MedianListingPricePerSqft_AllHomes': 114.5957818379,\n",
      " 'MedianListingPricePerSqft_CondoCoop': None,\n",
      " 'MedianListingPricePerSqft_DuplexTriplex': None,\n",
      " 'MedianListingPricePerSqft_SingleFamilyResidence': 114.7197839298,\n",
      " 'MedianListingPrice_1Bedroom': None,\n",
      " 'MedianListingPrice_2Bedroom': 145000.0,\n",
      " 'MedianListingPrice_3Bedroom': 200000.0,\n",
      " 'MedianListingPrice_4Bedroom': 269250.0,\n",
      " 'MedianListingPrice_5BedroomOrMore': 348500.0,\n",
      " 'MedianListingPrice_AllHomes': 229000.0,\n",
      " 'MedianListingPrice_CondoCoop': None,\n",
      " 'MedianListingPrice_DuplexTriplex': None,\n",
      " 'MedianListingPrice_SingleFamilyResidence': 229900.0,\n",
      " 'MedianPctOfPriceReduction_AllHomes': 2.9142857143,\n",
      " 'MedianPctOfPriceReduction_CondoCoop': None,\n",
      " 'MedianPctOfPriceReduction_SingleFamilyResidence': 2.9047619048,\n",
      " 'MedianPriceCutDollar_AllHomes': 5100.0,\n",
      " 'MedianPriceCutDollar_CondoCoop': None,\n",
      " 'MedianPriceCutDollar_SingleFamilyResidence': 5100.0,\n",
      " 'MedianRentalPricePerSqft_1Bedroom': None,\n",
      " 'MedianRentalPricePerSqft_2Bedroom': None,\n",
      " 'MedianRentalPricePerSqft_3Bedroom': 0.813559322,\n",
      " 'MedianRentalPricePerSqft_4Bedroom': None,\n",
      " 'MedianRentalPricePerSqft_5BedroomOrMore': None,\n",
      " 'MedianRentalPricePerSqft_AllHomes': 0.7495152252,\n",
      " 'MedianRentalPricePerSqft_CondoCoop': None,\n",
      " 'MedianRentalPricePerSqft_DuplexTriplex': None,\n",
      " 'MedianRentalPricePerSqft_MultiFamilyResidence5PlusUnits': None,\n",
      " 'MedianRentalPricePerSqft_SingleFamilyResidence': 0.7506387057,\n",
      " 'MedianRentalPricePerSqft_Studio': None,\n",
      " 'MedianRentalPrice_1Bedroom': None,\n",
      " 'MedianRentalPrice_2Bedroom': None,\n",
      " 'MedianRentalPrice_3Bedroom': 1290.0,\n",
      " 'MedianRentalPrice_4Bedroom': None,\n",
      " 'MedianRentalPrice_5BedroomOrMore': None,\n",
      " 'MedianRentalPrice_AllHomes': 1300.0,\n",
      " 'MedianRentalPrice_CondoCoop': None,\n",
      " 'MedianRentalPrice_DuplexTriplex': None,\n",
      " 'MedianRentalPrice_MultiFamilyResidence5PlusUnits': None,\n",
      " 'MedianRentalPrice_SingleFamilyResidence': 1300.0,\n",
      " 'MedianRentalPrice_Studio': None,\n",
      " 'PctOfHomesDecreasingInValues_AllHomes': 27.62,\n",
      " 'PctOfHomesIncreasingInValues_AllHomes': 60.67,\n",
      " 'PctOfHomesSellingForGain_AllHomes': None,\n",
      " 'PctOfHomesSellingForLoss_AllHomes': None,\n",
      " 'PctOfListingsWithPriceReductionsSeasAdj_AllHomes': 12.8349908145,\n",
      " 'PctOfListingsWithPriceReductionsSeasAdj_CondoCoop': None,\n",
      " 'PctOfListingsWithPriceReductionsSeasAdj_SingleFamilyResidence': 12.9975375575,\n",
      " 'PctOfListingsWithPriceReductions_AllHomes': 12.4613003096,\n",
      " 'PctOfListingsWithPriceReductions_CondoCoop': None,\n",
      " 'PctOfListingsWithPriceReductions_SingleFamilyResidence': 12.7186009539,\n",
      " 'PriceToRentRatio_AllHomes': 11.11,\n",
      " 'RegionName': 10001,\n",
      " 'Sale_Counts': None,\n",
      " 'Sale_Counts_Seas_Adj': None,\n",
      " 'Sale_Prices': None,\n",
      " 'ZHVIPerSqft_AllHomes': 111.0,\n",
      " 'ZHVI_1bedroom': 112300.0,\n",
      " 'ZHVI_2bedroom': 133200.0,\n",
      " 'ZHVI_3bedroom': 175500.0,\n",
      " 'ZHVI_4bedroom': 238200.0,\n",
      " 'ZHVI_5BedroomOrMore': 270800.0,\n",
      " 'ZHVI_AllHomes': 172700.0,\n",
      " 'ZHVI_BottomTier': 124000.0,\n",
      " 'ZHVI_CondoCoop': None,\n",
      " 'ZHVI_MiddleTier': 172700.0,\n",
      " 'ZHVI_SingleFamilyResidence': 173400.0,\n",
      " 'ZHVI_TopTier': 247600.0,\n",
      " 'ZRI_AllHomes': 1264.0,\n",
      " 'ZRI_AllHomesPlusMultifamily': 1292.0,\n",
      " 'ZriPerSqft_AllHomes': 0.82,\n",
      " 'Zri_MultiFamilyResidenceRental': 1301.0,\n",
      " 'Zri_SingleFamilyResidenceRental': 1292.0,\n",
      " '_id': ObjectId('64d24e5cbd5ce792cec47b79')}\n"
     ]
    }
   ],
   "source": [
    "result = z_data.find_one({\"DaysOnZillow_AllHomes\": 139.5})\n",
    "pprint.pprint(result)"
   ]
  },
  {
   "cell_type": "code",
   "execution_count": 24,
   "metadata": {},
   "outputs": [],
   "source": [
    "client.close()"
   ]
  },
  {
   "cell_type": "code",
   "execution_count": null,
   "metadata": {},
   "outputs": [],
   "source": []
  }
 ],
 "metadata": {
  "kernelspec": {
   "display_name": "Python 3 (ipykernel)",
   "language": "python",
   "name": "python3"
  },
  "language_info": {
   "codemirror_mode": {
    "name": "ipython",
    "version": 3
   },
   "file_extension": ".py",
   "mimetype": "text/x-python",
   "name": "python",
   "nbconvert_exporter": "python",
   "pygments_lexer": "ipython3",
   "version": "3.10.9"
  }
 },
 "nbformat": 4,
 "nbformat_minor": 4
}
