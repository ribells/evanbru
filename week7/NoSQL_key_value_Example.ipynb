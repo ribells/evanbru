{
 "cells": [
  {
   "cell_type": "code",
   "execution_count": 9,
   "id": "ebbe8612",
   "metadata": {},
   "outputs": [],
   "source": [
    "# Tutorial at https://github.com/v3io/tutorials/blob/v3.0.13/data-ingestion-and-preparation/v3io-kv.ipynb\n",
    "\n",
    "# Using the V3io platform's NoSQL (Key-Value) API"
   ]
  },
  {
   "cell_type": "code",
   "execution_count": null,
   "id": "a3b526be",
   "metadata": {},
   "outputs": [],
   "source": [
    "!pip install v3io"
   ]
  },
  {
   "cell_type": "code",
   "execution_count": 10,
   "id": "3b5c9340",
   "metadata": {},
   "outputs": [],
   "source": [
    "import v3io.dataplane"
   ]
  },
  {
   "cell_type": "code",
   "execution_count": null,
   "id": "d6af2919",
   "metadata": {},
   "outputs": [],
   "source": [
    "from os import getenv\n",
    "\n",
    "v3io_client = v3io.dataplane.Client(endpoint='http://v3io-webapi:8081', access_key=getenv('V3IO_ACCESS_KEY'))\n"
   ]
  },
  {
   "cell_type": "code",
   "execution_count": null,
   "id": "f2514cae",
   "metadata": {},
   "outputs": [],
   "source": [
    "# set the path\n",
    "\n",
    "from os import getenv, path\n",
    "\n",
    "CONTAINER = 'users'\n",
    "\n",
    "V3IO_USERNAME = getenv('V3IO_USERNAME')\n",
    "TABLE_PATH = path.join(V3IO_USERNAME, 'examples', 'v3io', 'kv')"
   ]
  },
  {
   "cell_type": "code",
   "execution_count": null,
   "id": "ea8c3873",
   "metadata": {},
   "outputs": [],
   "source": [
    "# create an example item\n",
    "\n",
    "from datetime import datetime\n",
    "from array import array\n",
    "item = {\n",
    "    'title': \"The Godfather\",\n",
    "    'rating': 9.2,\n",
    "    'release_date': datetime(1972, 3, 24),\n",
    "    'duration': 175\n",
    "}"
   ]
  },
  {
   "cell_type": "code",
   "execution_count": null,
   "id": "10d262b7",
   "metadata": {},
   "outputs": [],
   "source": [
    "# write to key-value storage\n",
    "\n",
    "print(f'Writing to {TABLE_PATH}')\n",
    "response = v3io_client.kv.put(container=CONTAINER, table_path=TABLE_PATH, key='tt0068646', attributes=item)\n",
    "print(f'Status code: {response.status_code}')"
   ]
  }
 ],
 "metadata": {
  "kernelspec": {
   "display_name": "Python 3 (ipykernel)",
   "language": "python",
   "name": "python3"
  },
  "language_info": {
   "codemirror_mode": {
    "name": "ipython",
    "version": 3
   },
   "file_extension": ".py",
   "mimetype": "text/x-python",
   "name": "python",
   "nbconvert_exporter": "python",
   "pygments_lexer": "ipython3",
   "version": "3.10.9"
  }
 },
 "nbformat": 4,
 "nbformat_minor": 5
}
