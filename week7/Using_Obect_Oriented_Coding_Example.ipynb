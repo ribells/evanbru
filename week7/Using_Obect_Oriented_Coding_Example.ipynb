{
 "cells": [
  {
   "cell_type": "code",
   "execution_count": 3,
   "id": "63c2fad0",
   "metadata": {},
   "outputs": [],
   "source": [
    "# Tutorial at: https://github.com/leriomaggio/python-in-a-notebook/blob/master/08%20Classes%20and%20OOP.ipynb\n",
    "\n",
    "# Classes are a way of combining information and behavior.\n",
    "\n",
    "# For example, let's consider what you'd need to do if you were creating a rocket ship \n",
    "# in a game, or in a physics simulation. One of the first things you'd want to track are \n",
    "# the x and y coordinates of the rocket. \n",
    "\n",
    "# Here is what a simple rocket ship class looks like in code:\n",
    "\n",
    "class Rocket():\n",
    "    # Rocket simulates a rocket ship for a game, or a physics simulation.\n",
    "    \n",
    "    # This is the rocket constructor method:\n",
    "    def __init__(self):\n",
    "        # Each rocket has an (x,y) position.\n",
    "        self.x = 0\n",
    "        self.y = 0"
   ]
  },
  {
   "cell_type": "code",
   "execution_count": 4,
   "id": "64cfc11a",
   "metadata": {},
   "outputs": [],
   "source": [
    "#The Rocket class stores two pieces of information so far, but it can't do anything. \n",
    "#The first behavior to define is a core behavior of a rocket: moving up. \n",
    "\n",
    "#Here is what that might look like in code:\n",
    "\n",
    "class Rocket():\n",
    "    # Rocket simulates a rocket ship for a game, or a physics simulation.\n",
    "    \n",
    "    def __init__(self):\n",
    "        # Each rocket has an (x,y) position.\n",
    "        self.x = 0\n",
    "        self.y = 0\n",
    "        \n",
    "    def move_up(self):\n",
    "        # Increment the y-position of the rocket.\n",
    "        self.y += 1"
   ]
  },
  {
   "cell_type": "code",
   "execution_count": 5,
   "id": "5d296f0a",
   "metadata": {},
   "outputs": [
    {
     "name": "stdout",
     "output_type": "stream",
     "text": [
      "Rocket altitude: 0\n",
      "Rocket altitude: 1\n",
      "Rocket altitude: 2\n"
     ]
    }
   ],
   "source": [
    "# Once you have a class, you can define an object and use its methods. \n",
    "\n",
    "# Here is how you might define a rocket and have it start to move up:\n",
    "\n",
    "class Rocket():\n",
    "    # Rocket simulates a rocket ship for a game,\n",
    "    #  or a physics simulation.\n",
    "    \n",
    "    def __init__(self):\n",
    "        # Each rocket has an (x,y) position.\n",
    "        self.x = 0\n",
    "        self.y = 0\n",
    "        \n",
    "    def move_up(self):\n",
    "        # Increment the y-position of the rocket.\n",
    "        self.y += 1\n",
    "\n",
    "# Create a Rocket object, and have it start to move up.\n",
    "my_rocket = Rocket()\n",
    "print(\"Rocket altitude:\", my_rocket.y)\n",
    "\n",
    "my_rocket.move_up()\n",
    "print(\"Rocket altitude:\", my_rocket.y)\n",
    "\n",
    "my_rocket.move_up()\n",
    "print(\"Rocket altitude:\", my_rocket.y)"
   ]
  },
  {
   "cell_type": "code",
   "execution_count": 6,
   "id": "b494012a",
   "metadata": {},
   "outputs": [
    {
     "name": "stdout",
     "output_type": "stream",
     "text": [
      "<__main__.Rocket object at 0x7fba95f33580>\n",
      "<__main__.Rocket object at 0x7fba95f32cb0>\n",
      "<__main__.Rocket object at 0x7fba95f32c80>\n",
      "<__main__.Rocket object at 0x7fba95f328c0>\n",
      "<__main__.Rocket object at 0x7fba95f32860>\n"
     ]
    }
   ],
   "source": [
    "# Once you have a class, you can define an object and use its methods. \n",
    "\n",
    "# For example, create a fleet of 5 rockets, and store them in a list:\n",
    "\n",
    "my_rockets = []\n",
    "for x in range(0,5):\n",
    "    new_rocket = Rocket()\n",
    "    my_rockets.append(new_rocket)\n",
    "\n",
    "# Show that each rocket is a separate object.\n",
    "for rocket in my_rockets:\n",
    "    print(rocket)"
   ]
  },
  {
   "cell_type": "code",
   "execution_count": null,
   "id": "b2fb22b3",
   "metadata": {},
   "outputs": [],
   "source": [
    "# You can see that each rocket is at a separate place in memory.\n",
    "# Alternatively, if you understand list comprehensions, you can make the fleet of rockets\n",
    "# in one line:\n",
    "\n",
    "my_rockets = [Rocket() for x in range(0,5)]"
   ]
  },
  {
   "cell_type": "code",
   "execution_count": 7,
   "id": "4d2f5fcf",
   "metadata": {},
   "outputs": [
    {
     "name": "stdout",
     "output_type": "stream",
     "text": [
      "Rocket altitude: 1\n",
      "Rocket altitude: 0\n",
      "Rocket altitude: 0\n",
      "Rocket altitude: 0\n",
      "Rocket altitude: 0\n"
     ]
    }
   ],
   "source": [
    "# You can prove that each rocket has its own x and y values by moving just one of the rockets:\n",
    "\n",
    "# Move the first rocket up.\n",
    "my_rockets[0].move_up()\n",
    "\n",
    "# Show that only the first rocket has moved.\n",
    "for rocket in my_rockets:\n",
    "    print(\"Rocket altitude:\", rocket.y)"
   ]
  },
  {
   "cell_type": "code",
   "execution_count": null,
   "id": "b7239082",
   "metadata": {},
   "outputs": [],
   "source": []
  }
 ],
 "metadata": {
  "kernelspec": {
   "display_name": "Python 3 (ipykernel)",
   "language": "python",
   "name": "python3"
  },
  "language_info": {
   "codemirror_mode": {
    "name": "ipython",
    "version": 3
   },
   "file_extension": ".py",
   "mimetype": "text/x-python",
   "name": "python",
   "nbconvert_exporter": "python",
   "pygments_lexer": "ipython3",
   "version": "3.10.9"
  }
 },
 "nbformat": 4,
 "nbformat_minor": 5
}
