{
 "cells": [
  {
   "cell_type": "code",
   "execution_count": 1,
   "metadata": {},
   "outputs": [],
   "source": [
    "import warnings\n",
    "\n",
    "def fxn():\n",
    "    warnings.warn(\"deprecated\", DeprecationWarning)\n",
    "\n",
    "with warnings.catch_warnings():\n",
    "    warnings.simplefilter(\"ignore\")\n",
    "    fxn()"
   ]
  },
  {
   "cell_type": "code",
   "execution_count": 2,
   "metadata": {},
   "outputs": [
    {
     "name": "stdout",
     "output_type": "stream",
     "text": [
      "Requirement already satisfied: pymongo in /Users/ribells/anaconda3/lib/python3.10/site-packages (3.12.0)\r\n"
     ]
    }
   ],
   "source": [
    "#install a Python-accessible MondoDB package (use conda install in terminal if fails)\n",
    "\n",
    "!pip install pymongo"
   ]
  },
  {
   "cell_type": "code",
   "execution_count": 1,
   "metadata": {},
   "outputs": [],
   "source": [
    "import pymongo\n",
    "from pymongo import MongoClient"
   ]
  },
  {
   "cell_type": "code",
   "execution_count": 2,
   "metadata": {},
   "outputs": [],
   "source": [
    "client = MongoClient('localhost', 27017)\n",
    "\n",
    "# launch the accessible read/write area in Terminal via:\n",
    "# mongod --dbpath /usr/local/mongodb-data"
   ]
  },
  {
   "cell_type": "code",
   "execution_count": 3,
   "metadata": {},
   "outputs": [
    {
     "data": {
      "text/plain": [
       "Database(MongoClient(host=['localhost:27017'], document_class=dict, tz_aware=False, connect=True), 'rptutorials')"
      ]
     },
     "execution_count": 3,
     "metadata": {},
     "output_type": "execute_result"
    }
   ],
   "source": [
    "# following tutorial at:\n",
    "# https://realpython.com/introduction-to-mongodb-and-python/#using-mongodb-with-python-and-pymongo\n",
    "\n",
    "db = client['rptutorials']\n",
    "\n",
    "db"
   ]
  },
  {
   "cell_type": "code",
   "execution_count": 10,
   "metadata": {},
   "outputs": [],
   "source": [
    "#clear the database if running for the second time\n",
    "tutorial.delete_many({})\n",
    "\n",
    "tutorial1 = {\n",
    "     \"title\": \"Working With JSON Data in Python\",\n",
    "     \"author\": \"Lucas\",\n",
    "     \"contributors\": [\n",
    "         \"Aldren\",\n",
    "         \"Dan\",\n",
    "         \"Joanna\"\n",
    "     ],\n",
    "     \"url\": \"https://realpython.com/python-json/\"\n",
    "}"
   ]
  },
  {
   "cell_type": "code",
   "execution_count": 11,
   "metadata": {},
   "outputs": [
    {
     "data": {
      "text/plain": [
       "Collection(Database(MongoClient(host=['localhost:27017'], document_class=dict, tz_aware=False, connect=True), 'rptutorials'), 'tutorial')"
      ]
     },
     "execution_count": 11,
     "metadata": {},
     "output_type": "execute_result"
    }
   ],
   "source": [
    "tutorial = db.tutorial\n",
    "tutorial"
   ]
  },
  {
   "cell_type": "code",
   "execution_count": 12,
   "metadata": {},
   "outputs": [
    {
     "data": {
      "text/plain": [
       "<pymongo.results.InsertOneResult at 0x7f99a5a31c00>"
      ]
     },
     "execution_count": 12,
     "metadata": {},
     "output_type": "execute_result"
    }
   ],
   "source": [
    "result = tutorial.insert_one(tutorial1)\n",
    "result"
   ]
  },
  {
   "cell_type": "code",
   "execution_count": 13,
   "metadata": {},
   "outputs": [],
   "source": [
    "tutorial2 = {\n",
    "     \"title\": \"Python's Requests Library (Guide)\",\n",
    "     \"author\": \"Alex\",\n",
    "     \"contributors\": [\n",
    "         \"Aldren\",\n",
    "         \"Brad\",\n",
    "         \"Joanna\"\n",
    "     ],\n",
    "     \"url\": \"https://realpython.com/python-requests/\"\n",
    "}\n",
    "\n",
    "tutorial3 = {\n",
    "     \"title\": \"Object-Oriented Programming (OOP) in Python 3\",\n",
    "     \"author\": \"David\",\n",
    "     \"contributors\": [\n",
    "         \"Aldren\",\n",
    "         \"Joanna\",\n",
    "         \"Jacob\"\n",
    "     ],\n",
    "     \"url\": \"https://realpython.com/python3-object-oriented-programming/\"\n",
    "}"
   ]
  },
  {
   "cell_type": "code",
   "execution_count": 14,
   "metadata": {},
   "outputs": [
    {
     "name": "stdout",
     "output_type": "stream",
     "text": [
      "Multiple tutorials: [ObjectId('64e4c8941c00963b085c39ba'), ObjectId('64e4c8941c00963b085c39bb')]\n"
     ]
    }
   ],
   "source": [
    "new_result = tutorial.insert_many([tutorial2, tutorial3])\n",
    "\n",
    "print(f\"Multiple tutorials: {new_result.inserted_ids}\")"
   ]
  },
  {
   "cell_type": "code",
   "execution_count": 15,
   "metadata": {},
   "outputs": [
    {
     "name": "stdout",
     "output_type": "stream",
     "text": [
      "{'_id': ObjectId('64e4c88e1c00963b085c39b9'),\n",
      " 'author': 'Lucas',\n",
      " 'contributors': ['Aldren', 'Dan', 'Joanna'],\n",
      " 'title': 'Working With JSON Data in Python',\n",
      " 'url': 'https://realpython.com/python-json/'}\n",
      "{'_id': ObjectId('64e4c8941c00963b085c39ba'),\n",
      " 'author': 'Alex',\n",
      " 'contributors': ['Aldren', 'Brad', 'Joanna'],\n",
      " 'title': \"Python's Requests Library (Guide)\",\n",
      " 'url': 'https://realpython.com/python-requests/'}\n",
      "{'_id': ObjectId('64e4c8941c00963b085c39bb'),\n",
      " 'author': 'David',\n",
      " 'contributors': ['Aldren', 'Joanna', 'Jacob'],\n",
      " 'title': 'Object-Oriented Programming (OOP) in Python 3',\n",
      " 'url': 'https://realpython.com/python3-object-oriented-programming/'}\n"
     ]
    }
   ],
   "source": [
    "import pprint\n",
    "\n",
    "for doc in tutorial.find():\n",
    "    pprint.pprint(doc)"
   ]
  },
  {
   "cell_type": "code",
   "execution_count": 16,
   "metadata": {},
   "outputs": [
    {
     "name": "stdout",
     "output_type": "stream",
     "text": [
      "{'_id': ObjectId('64e4c8941c00963b085c39ba'),\n",
      " 'author': 'Alex',\n",
      " 'contributors': ['Aldren', 'Brad', 'Joanna'],\n",
      " 'title': \"Python's Requests Library (Guide)\",\n",
      " 'url': 'https://realpython.com/python-requests/'}\n"
     ]
    }
   ],
   "source": [
    "jon_tutorial = tutorial.find_one({\"author\": \"Alex\"})\n",
    "pprint.pprint(jon_tutorial)"
   ]
  },
  {
   "cell_type": "code",
   "execution_count": 5,
   "metadata": {},
   "outputs": [
    {
     "name": "stderr",
     "output_type": "stream",
     "text": [
      "/var/folders/zf/49prmn_s7s5861rytkmr3_080000gn/T/ipykernel_88839/4274216664.py:16: DeprecationWarning: remove is deprecated. Use delete_one or delete_many instead.\n",
      "  coll.remove()\n",
      "/var/folders/zf/49prmn_s7s5861rytkmr3_080000gn/T/ipykernel_88839/4274216664.py:17: DeprecationWarning: insert is deprecated. Use insert_one or insert_many instead.\n",
      "  coll.insert(payload)\n"
     ]
    },
    {
     "name": "stdout",
     "output_type": "stream",
     "text": [
      "elapsed time:  11300\n"
     ]
    },
    {
     "name": "stderr",
     "output_type": "stream",
     "text": [
      "/var/folders/zf/49prmn_s7s5861rytkmr3_080000gn/T/ipykernel_88839/4274216664.py:18: DeprecationWarning: count is deprecated. Use estimated_document_count or count_documents instead. Please note that $where must be replaced by $expr, $near must be replaced by $geoWithin with $center, and $nearSphere must be replaced by $geoWithin with $centerSphere\n",
      "  return coll.count()\n"
     ]
    }
   ],
   "source": [
    "# example of inserting data to MondoDB from csv file\n",
    "\n",
    "import pandas as pd\n",
    "import json\n",
    "import time\n",
    "\n",
    "def mongoimport(csv_path, db_name, coll_name, db_url='localhost', db_port=27017):\n",
    "    \"\"\" Imports a csv file at path csv_name to a mongo colection\n",
    "    returns: count of the documants in the new collection\n",
    "    \"\"\"\n",
    "    client = MongoClient(db_url, db_port)\n",
    "    db = client[db_name]\n",
    "    coll = db[coll_name]\n",
    "    data = pd.read_csv(csv_path)\n",
    "    payload = json.loads(data.to_json(orient='records'))\n",
    "    coll.remove()\n",
    "    coll.insert(payload)\n",
    "    return coll.count()\n",
    "\n",
    "db = client['zillo']\n",
    "\n",
    "z_data = db.z_data\n",
    "z_data\n",
    "\n",
    "current_time_millis = int(round(time.time() * 1000))\n",
    "\n",
    "mongoimport(\"Zillow_Mortgages_county_2016-2017.csv\", \"zillo\", \"z_data\")\n",
    "\n",
    "print('elapsed time: ', (int(round(time.time() * 1000))-current_time_millis))"
   ]
  },
  {
   "cell_type": "code",
   "execution_count": 18,
   "metadata": {},
   "outputs": [
    {
     "name": "stdout",
     "output_type": "stream",
     "text": [
      "{'Date': '2017-03-31',\n",
      " 'DaysOnZillow_AllHomes': 139.5,\n",
      " 'InventoryRaw_AllHomes': 2034.0,\n",
      " 'InventorySeasonallyAdjusted_AllHomes': 1859.0,\n",
      " 'MedianListingPricePerSqft_1Bedroom': 477.6984262744,\n",
      " 'MedianListingPricePerSqft_2Bedroom': 444.249260355,\n",
      " 'MedianListingPricePerSqft_3Bedroom': 475.7844474761,\n",
      " 'MedianListingPricePerSqft_4Bedroom': 575.4171536341,\n",
      " 'MedianListingPricePerSqft_5BedroomOrMore': 699.9967549451,\n",
      " 'MedianListingPricePerSqft_AllHomes': 492.3798358734,\n",
      " 'MedianListingPricePerSqft_CondoCoop': None,\n",
      " 'MedianListingPricePerSqft_DuplexTriplex': None,\n",
      " 'MedianListingPricePerSqft_SingleFamilyResidence': 492.5765655506,\n",
      " 'MedianListingPrice_1Bedroom': 321000.0,\n",
      " 'MedianListingPrice_2Bedroom': 479000.0,\n",
      " 'MedianListingPrice_3Bedroom': 798500.0,\n",
      " 'MedianListingPrice_4Bedroom': 1495000.0,\n",
      " 'MedianListingPrice_5BedroomOrMore': 2700000.0,\n",
      " 'MedianListingPrice_AllHomes': 669000.0,\n",
      " 'MedianListingPrice_CondoCoop': 479000.0,\n",
      " 'MedianListingPrice_DuplexTriplex': None,\n",
      " 'MedianListingPrice_SingleFamilyResidence': 729000.0,\n",
      " 'MedianPctOfPriceReduction_AllHomes': 3.4057971014,\n",
      " 'MedianPctOfPriceReduction_CondoCoop': 3.6170191357,\n",
      " 'MedianPctOfPriceReduction_SingleFamilyResidence': 3.3468684366,\n",
      " 'MedianPriceCutDollar_AllHomes': 20000.0,\n",
      " 'MedianPriceCutDollar_CondoCoop': 20000.0,\n",
      " 'MedianPriceCutDollar_SingleFamilyResidence': 20050.0,\n",
      " 'MedianRentalPricePerSqft_1Bedroom': None,\n",
      " 'MedianRentalPricePerSqft_2Bedroom': None,\n",
      " 'MedianRentalPricePerSqft_3Bedroom': 2.4695121951,\n",
      " 'MedianRentalPricePerSqft_4Bedroom': None,\n",
      " 'MedianRentalPricePerSqft_5BedroomOrMore': None,\n",
      " 'MedianRentalPricePerSqft_AllHomes': 2.8772566719,\n",
      " 'MedianRentalPricePerSqft_CondoCoop': None,\n",
      " 'MedianRentalPricePerSqft_DuplexTriplex': None,\n",
      " 'MedianRentalPricePerSqft_MultiFamilyResidence5PlusUnits': None,\n",
      " 'MedianRentalPricePerSqft_SingleFamilyResidence': 2.8698979592,\n",
      " 'MedianRentalPricePerSqft_Studio': None,\n",
      " 'MedianRentalPrice_1Bedroom': None,\n",
      " 'MedianRentalPrice_2Bedroom': None,\n",
      " 'MedianRentalPrice_3Bedroom': 4000.0,\n",
      " 'MedianRentalPrice_4Bedroom': None,\n",
      " 'MedianRentalPrice_5BedroomOrMore': None,\n",
      " 'MedianRentalPrice_AllHomes': 3300.0,\n",
      " 'MedianRentalPrice_CondoCoop': None,\n",
      " 'MedianRentalPrice_DuplexTriplex': None,\n",
      " 'MedianRentalPrice_MultiFamilyResidence5PlusUnits': 2350.0,\n",
      " 'MedianRentalPrice_SingleFamilyResidence': 3500.0,\n",
      " 'MedianRentalPrice_Studio': None,\n",
      " 'PctOfHomesDecreasingInValues_AllHomes': 13.1,\n",
      " 'PctOfHomesIncreasingInValues_AllHomes': 81.51,\n",
      " 'PctOfHomesSellingForGain_AllHomes': None,\n",
      " 'PctOfHomesSellingForLoss_AllHomes': None,\n",
      " 'PctOfListingsWithPriceReductionsSeasAdj_AllHomes': 14.4929613619,\n",
      " 'PctOfListingsWithPriceReductionsSeasAdj_CondoCoop': 14.4429878576,\n",
      " 'PctOfListingsWithPriceReductionsSeasAdj_SingleFamilyResidence': 14.5057797886,\n",
      " 'PctOfListingsWithPriceReductions_AllHomes': 16.5445928479,\n",
      " 'PctOfListingsWithPriceReductions_CondoCoop': 16.3708086785,\n",
      " 'PctOfListingsWithPriceReductions_SingleFamilyResidence': 16.5931642778,\n",
      " 'PriceToRentRatio_AllHomes': 13.82,\n",
      " 'RegionName': 12087,\n",
      " 'Sale_Counts': None,\n",
      " 'Sale_Counts_Seas_Adj': None,\n",
      " 'Sale_Prices': None,\n",
      " 'ZHVIPerSqft_AllHomes': 416.0,\n",
      " 'ZHVI_1bedroom': 379200.0,\n",
      " 'ZHVI_2bedroom': 494100.0,\n",
      " 'ZHVI_3bedroom': 711100.0,\n",
      " 'ZHVI_4bedroom': 1276700.0,\n",
      " 'ZHVI_5BedroomOrMore': 2356000.0,\n",
      " 'ZHVI_AllHomes': 543300.0,\n",
      " 'ZHVI_BottomTier': 349500.0,\n",
      " 'ZHVI_CondoCoop': 440300.0,\n",
      " 'ZHVI_MiddleTier': 543300.0,\n",
      " 'ZHVI_SingleFamilyResidence': 599900.0,\n",
      " 'ZHVI_TopTier': 1121200.0,\n",
      " 'ZRI_AllHomes': 3271.0,\n",
      " 'ZRI_AllHomesPlusMultifamily': 3167.0,\n",
      " 'ZriPerSqft_AllHomes': 2.58,\n",
      " 'Zri_MultiFamilyResidenceRental': 2884.0,\n",
      " 'Zri_SingleFamilyResidenceRental': 3386.0,\n",
      " '_id': ObjectId('64e4c8a71c00963b085ccce6')}\n"
     ]
    }
   ],
   "source": [
    "result = z_data.find_one({\"DaysOnZillow_AllHomes\": 139.5})\n",
    "pprint.pprint(result)"
   ]
  },
  {
   "cell_type": "code",
   "execution_count": 7,
   "metadata": {},
   "outputs": [
    {
     "name": "stderr",
     "output_type": "stream",
     "text": [
      "Matplotlib created a temporary config/cache directory at /var/folders/zf/49prmn_s7s5861rytkmr3_080000gn/T/matplotlib-oin5yz0v because the default path (/Users/ribells/.matplotlib) is not a writable directory; it is highly recommended to set the MPLCONFIGDIR environment variable to a writable directory, in particular to speed up the import of Matplotlib and to better support multiprocessing.\n"
     ]
    },
    {
     "ename": "NameError",
     "evalue": "name 'pprint' is not defined",
     "output_type": "error",
     "traceback": [
      "\u001b[0;31m---------------------------------------------------------------------------\u001b[0m",
      "\u001b[0;31mNameError\u001b[0m                                 Traceback (most recent call last)",
      "Cell \u001b[0;32mIn[7], line 12\u001b[0m\n\u001b[1;32m      8\u001b[0m \u001b[38;5;66;03m#get results for number of days greater than 150 days across all regions\u001b[39;00m\n\u001b[1;32m      9\u001b[0m result \u001b[38;5;241m=\u001b[39m z_data\u001b[38;5;241m.\u001b[39mfind({\u001b[38;5;124m'\u001b[39m\u001b[38;5;124mDaysOnZillow_AllHomes\u001b[39m\u001b[38;5;124m'\u001b[39m: {\u001b[38;5;124m\"\u001b[39m\u001b[38;5;124m$gt\u001b[39m\u001b[38;5;124m\"\u001b[39m: \u001b[38;5;241m150\u001b[39m}}, \n\u001b[1;32m     10\u001b[0m                      {\u001b[38;5;124m'\u001b[39m\u001b[38;5;124mDate\u001b[39m\u001b[38;5;124m'\u001b[39m: \u001b[38;5;241m1\u001b[39m, \u001b[38;5;124m'\u001b[39m\u001b[38;5;124mDaysOnZillow_AllHomes\u001b[39m\u001b[38;5;124m'\u001b[39m: \u001b[38;5;241m1\u001b[39m})\u001b[38;5;241m.\u001b[39msort(\u001b[38;5;124m'\u001b[39m\u001b[38;5;124mDaysOnZillow_AllHomes\u001b[39m\u001b[38;5;124m'\u001b[39m)\n\u001b[0;32m---> 12\u001b[0m \u001b[43mpprint\u001b[49m\u001b[38;5;241m.\u001b[39mpprint(result)\n\u001b[1;32m     14\u001b[0m \u001b[38;5;66;03m#take dictionary result and build arrays for plotting\u001b[39;00m\n\u001b[1;32m     15\u001b[0m \u001b[38;5;28;01mfor\u001b[39;00m doc \u001b[38;5;129;01min\u001b[39;00m result:\n",
      "\u001b[0;31mNameError\u001b[0m: name 'pprint' is not defined"
     ]
    }
   ],
   "source": [
    "#see Python matplotlib examples at: https://matplotlib.org/stable/api/_as_gen/matplotlib.pyplot.plot.html\n",
    "\n",
    "import matplotlib.pyplot as plt\n",
    "\n",
    "data = []\n",
    "amt = []\n",
    "\n",
    "#get results for number of days greater than 150 days across all regions\n",
    "result = z_data.find({'DaysOnZillow_AllHomes': {\"$gt\": 150}}, \n",
    "                     {'Date': 1, 'DaysOnZillow_AllHomes': 1}).sort('DaysOnZillow_AllHomes')\n",
    "\n",
    "pprint.pprint(result)\n",
    "\n",
    "#take dictionary result and build arrays for plotting\n",
    "for doc in result:\n",
    "    data.append(doc['Date'])\n",
    "    amt.append(doc['DaysOnZillow_AllHomes'])\n",
    "    \n",
    "plt.xticks(rotation=90)\n",
    "\n",
    "plt.plot(data, amt, 'ob', markersize=2)"
   ]
  },
  {
   "cell_type": "code",
   "execution_count": 9,
   "metadata": {},
   "outputs": [
    {
     "name": "stdout",
     "output_type": "stream",
     "text": [
      "elapsed time:  0\n"
     ]
    },
    {
     "data": {
      "text/plain": [
       "[<matplotlib.lines.Line2D at 0x7fa49632efe0>]"
      ]
     },
     "execution_count": 9,
     "metadata": {},
     "output_type": "execute_result"
    },
    {
     "data": {
      "image/png": "[encoded data removed]",
      "text/plain": [
       "<Figure size 640x480 with 1 Axes>"
      ]
     },
     "metadata": {},
     "output_type": "display_data"
    }
   ],
   "source": [
    "amt = []\n",
    "amt2 = []\n",
    "\n",
    "\n",
    "current_time_millis = int(round(time.time() * 1000))\n",
    "#get median listing prices on zillow for region 34003\n",
    "result = z_data.find({'RegionName': {\"$eq\": 34003}}, \n",
    "                     {'RegionName': 1, 'MedianListingPricePerSqft_2Bedroom': 1}).sort('Date')\n",
    "print('elapsed time: ', (int(round(time.time() * 1000))-current_time_millis))\n",
    "\n",
    "#take dictionary result and build arrays for plotting\n",
    "for doc in result:\n",
    "    amt.append(doc['MedianListingPricePerSqft_2Bedroom'])\n",
    "    \n",
    "#get median listing price on zillow for region 34003\n",
    "result2 = z_data.find({'RegionName': {\"$eq\": 34003}}, \n",
    "                     {'RegionName': 1, 'MedianListingPricePerSqft_1Bedroom': 1}).sort('Date')\n",
    "\n",
    "#take dictionary result and build arrays for plotting\n",
    "for doc in result2:\n",
    "    amt2.append(doc['MedianListingPricePerSqft_1Bedroom'])\n",
    "    \n",
    "plt.xticks(rotation=90)\n",
    "\n",
    "plt.plot(amt, linestyle = 'solid', color='green')\n",
    "plt.plot(amt2, linestyle = 'solid', color='orange')"
   ]
  },
  {
   "cell_type": "code",
   "execution_count": 10,
   "metadata": {},
   "outputs": [
    {
     "data": {
      "image/png": "[encoded data removed]",
      "text/plain": [
       "<Figure size 1400x800 with 1 Axes>"
      ]
     },
     "metadata": {},
     "output_type": "display_data"
    }
   ],
   "source": [
    "import numpy as np\n",
    "\n",
    "amt = np.array([])\n",
    "amt2 = np.array([])\n",
    "\n",
    "plt.figure(figsize=(14,8))\n",
    "\n",
    "#get median listing prices on zillow for region 34003\n",
    "result = z_data.find({'RegionName': {\"$eq\": 34003}}, \n",
    "                     {'RegionName': 1, 'MedianListingPricePerSqft_2Bedroom': 1}).sort('Date')\n",
    "\n",
    "#take dictionary result and build arrays for plotting\n",
    "for doc in result:\n",
    "    if(type(doc['MedianListingPricePerSqft_2Bedroom'])==float):\n",
    "        amt = np.append(amt, float(doc['MedianListingPricePerSqft_2Bedroom']))\n",
    "    else:\n",
    "        amt = np.append(amt, 200000)\n",
    "    \n",
    "#get median listing price on zillow for region 34003\n",
    "result2 = z_data.find({'RegionName': {\"$eq\": 34003}}, \n",
    "                     {'RegionName': 1, 'DaysOnZillow_AllHomes': 1}).sort('Date')\n",
    "\n",
    "#take dictionary result and build arrays for plotting\n",
    "for doc in result2:\n",
    "    if(type(doc['DaysOnZillow_AllHomes'])==float):\n",
    "        amt2 = np.append(amt2, float(doc['DaysOnZillow_AllHomes']))\n",
    "    else:\n",
    "        amt2 = np.append(amt2, 150.0)\n",
    "    \n",
    "plt.xticks(rotation=90)\n",
    "\n",
    "# Plot initial scatterplot with axes labeled \n",
    "plt.scatter(amt, amt2, s=20, color='#fcbd00', alpha=0.75)\n",
    "\n",
    "plt.title(\"Regression of price versus duration\")\n",
    "plt.xlabel(\"Price (USD)\", fontsize=18)\n",
    "plt.ylabel(\"Days on Zillow\", fontsize=18)\n",
    "\n",
    "# Use numpy to do a simple linear fit to time series data \n",
    "model = np.polyfit(amt, amt2, 1)\n",
    "predicted = np.polyval(model, amt)\n",
    "\n",
    "plt.plot(amt, predicted, linewidth=2, color='black')\n",
    "\n",
    "slope = model[0]\n",
    "intercept = model[1]\n",
    "plt.annotate('$y=%3.5sx+%3.5s$'%(slope, intercept), xy=(0.02, 0.95), xycoords='axes fraction', fontsize=14)\n",
    "\n",
    "r2 = np.corrcoef(amt, amt2)[0, 1]**2\n",
    "plt.annotate('$R^2=%3.4s$'%(r2), xy=(0.02, 0.9), xycoords='axes fraction', fontsize=14)\n",
    "\n",
    "plt.show()\n"
   ]
  },
  {
   "cell_type": "code",
   "execution_count": 53,
   "metadata": {},
   "outputs": [
    {
     "name": "stdout",
     "output_type": "stream",
     "text": [
      "122630\n"
     ]
    }
   ],
   "source": [
    "# Example of using BLOBs:\n",
    "\n",
    "import sys\n",
    "\n",
    "#store a BLOB:\n",
    "file = '1_frontal.jpg'  \n",
    "location = \"houses\"\n",
    "path = os.path.join(location, file)\n",
    "f = open(path, 'rb') # opening a binary file\n",
    "contents = f.read()\n",
    "f.close()\n",
    "\n",
    "print(sys.getsizeof(contents))\n",
    "\n",
    "#use a BLOB\n",
    "with open(\"houses/my_file.jpg\", \"wb\") as binary_file:\n",
    "   \n",
    "    # Write bytes to file\n",
    "    binary_file.write(contents)"
   ]
  },
  {
   "cell_type": "code",
   "execution_count": 24,
   "metadata": {},
   "outputs": [],
   "source": [
    "client.close()"
   ]
  }
 ],
 "metadata": {
  "kernelspec": {
   "display_name": "Python 3 (ipykernel)",
   "language": "python",
   "name": "python3"
  },
  "language_info": {
   "codemirror_mode": {
    "name": "ipython",
    "version": 3
   },
   "file_extension": ".py",
   "mimetype": "text/x-python",
   "name": "python",
   "nbconvert_exporter": "python",
   "pygments_lexer": "ipython3",
   "version": "3.10.9"
  }
 },
 "nbformat": 4,
 "nbformat_minor": 4
}
